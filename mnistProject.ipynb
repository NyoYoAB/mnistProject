{
  "cells": [
    {
      "cell_type": "markdown",
      "metadata": {
        "id": "MEnD6s-Od2Yt"
      },
      "source": [
        "## Initial Process"
      ]
    },
    {
      "cell_type": "code",
      "execution_count": null,
      "metadata": {
        "id": "UPzJAy1wd_mQ"
      },
      "outputs": [],
      "source": [
        "import numpy as np\n",
        "import pandas as pd\n",
        "import matplotlib.pyplot as plt\n"
      ]
    },
    {
      "cell_type": "markdown",
      "metadata": {
        "id": "B1bXNQgpefO_"
      },
      "source": [
        "## Import CSV Data"
      ]
    },
    {
      "cell_type": "code",
      "execution_count": null,
      "metadata": {
        "id": "U2krC5g-eqen"
      },
      "outputs": [],
      "source": [
        "amnist_data = pd.read_csv(\"inputs/MNIST_train.csv\")"
      ]
    },
    {
      "cell_type": "code",
      "execution_count": null,
      "metadata": {
        "colab": {
          "base_uri": "https://localhost:8080/",
          "height": 424
        },
        "id": "8InTexmV4D_3",
        "outputId": "e4fb2687-5c9c-4ded-d68f-3a9848223631"
      },
      "outputs": [],
      "source": [
        "amnist_data"
      ]
    },
    {
      "cell_type": "code",
      "execution_count": null,
      "metadata": {},
      "outputs": [],
      "source": [
        "# Display basic information about the dataset\n",
        "print(\"Dataset Information:\")\n",
        "print(amnist_data.info())\n",
        "# This provides an overview of the columns, their data types, and non-null counts\n",
        "\n",
        "# Display summary statistics of the numerical columns\n",
        "print(\"\\nSummary Statistics:\")\n",
        "print(amnist_data.describe())\n",
        "# This shows count, mean, std, min, 25%, 50%, 75%, and max for numerical columns\n",
        "\n",
        "# Check for missing values in each column\n",
        "print(\"\\nMissing Values:\")\n",
        "print(amnist_data.isnull().sum())\n",
        "# This helps identify columns with missing data that may need imputation\n",
        "\n",
        "# Display the first few rows of the dataset\n",
        "print(\"\\nFirst few rows:\")\n",
        "print(amnist_data.head())\n",
        "# This gives a quick look at the structure and content of the data"
      ]
    },
    {
      "cell_type": "code",
      "execution_count": null,
      "metadata": {
        "colab": {
          "base_uri": "https://localhost:8080/"
        },
        "id": "l7W5vify9GNM",
        "outputId": "06a36550-5ce6-436c-fada-43cd1742a374"
      },
      "outputs": [],
      "source": [
        "amnist_data.shape"
      ]
    },
    {
      "cell_type": "code",
      "execution_count": null,
      "metadata": {
        "id": "w4wVmkTz4JOv"
      },
      "outputs": [],
      "source": [
        "X = amnist_data.to_numpy()"
      ]
    },
    {
      "cell_type": "code",
      "execution_count": null,
      "metadata": {
        "colab": {
          "base_uri": "https://localhost:8080/"
        },
        "id": "oYM8WaHk4ryB",
        "outputId": "9ee018c3-fed0-4d9e-d39c-d1f8c829dd0e"
      },
      "outputs": [],
      "source": [
        "y = X[:,2]\n",
        "y"
      ]
    },
    {
      "cell_type": "code",
      "execution_count": null,
      "metadata": {
        "colab": {
          "base_uri": "https://localhost:8080/"
        },
        "id": "M7__vf_N4tlI",
        "outputId": "1d174b3d-d68a-47c5-b1ae-c6fc2464349a"
      },
      "outputs": [],
      "source": [
        "set(y)"
      ]
    },
    {
      "cell_type": "code",
      "execution_count": null,
      "metadata": {
        "colab": {
          "base_uri": "https://localhost:8080/"
        },
        "id": "DXnofux64vqH",
        "outputId": "45758797-dacd-4dd4-d49c-de7a39c111ae"
      },
      "outputs": [],
      "source": [
        "X = X[:, 3:]\n",
        "X.shape"
      ]
    },
    {
      "cell_type": "code",
      "execution_count": null,
      "metadata": {
        "colab": {
          "base_uri": "https://localhost:8080/"
        },
        "id": "TkxUBGy44yMX",
        "outputId": "78ff493f-aa3c-40b8-8b51-40602ff8dab1"
      },
      "outputs": [],
      "source": [
        "obs_1 = X[1, :]\n",
        "obs_1"
      ]
    },
    {
      "cell_type": "code",
      "execution_count": null,
      "metadata": {
        "colab": {
          "base_uri": "https://localhost:8080/"
        },
        "id": "z8aS10t05BmD",
        "outputId": "48c857f2-c03f-4d09-97af-2c2022893713"
      },
      "outputs": [],
      "source": [
        "X[1].max()"
      ]
    },
    {
      "cell_type": "code",
      "execution_count": null,
      "metadata": {},
      "outputs": [],
      "source": [
        "X[1].min()"
      ]
    },
    {
      "cell_type": "code",
      "execution_count": null,
      "metadata": {
        "colab": {
          "base_uri": "https://localhost:8080/"
        },
        "id": "H4yENGim5iSZ",
        "outputId": "e1b028ff-2348-46f6-eba8-82029e596b5e"
      },
      "outputs": [],
      "source": [
        "obs_1 = obs_1.reshape(28, 28)\n",
        "obs_1"
      ]
    },
    {
      "cell_type": "markdown",
      "metadata": {},
      "source": [
        "### plt.imshow Function Overview\n",
        "\n",
        "The `plt.imshow()` function in Matplotlib is used to display images in a 2D array format. It is especially useful for visualizing data in the form of images, such as matrices, grayscale images, or color images.\n",
        "\n",
        "#### Parameters:\n",
        "- `obs_1` (array-like): The data or image you want to display. This can be a 2D array (for grayscale images) or a 3D array (for color images, where the third dimension represents color channels like RGB).\n",
        "\n",
        "#### Functionality:\n",
        "- `plt.imshow(obs_1)` will display the `obs_1` array as an image.\n",
        "- If `obs_1` is a 2D array, `plt.imshow()` will interpret the values as pixel intensities.\n",
        "- If `obs_1` is a 3D array, it will treat the last dimension as color channels (e.g., RGB).\n",
        "\n",
        "#### Example: <br>`obs_1` is a matrix representing an image, `plt.imshow(obs_1)` will render this matrix as an image within a plot."
      ]
    },
    {
      "cell_type": "code",
      "execution_count": null,
      "metadata": {
        "colab": {
          "base_uri": "https://localhost:8080/",
          "height": 447
        },
        "id": "MpDYYU0B6D8A",
        "outputId": "68801b40-9224-42ee-bffc-63b3c3b09165"
      },
      "outputs": [],
      "source": [
        "plt.imshow(obs_1)"
      ]
    },
    {
      "cell_type": "markdown",
      "metadata": {},
      "source": [
        "## Applying Naive Bayes "
      ]
    },
    {
      "cell_type": "code",
      "execution_count": null,
      "metadata": {
        "id": "XjboToG8-C8q"
      },
      "outputs": [],
      "source": [
        "from scipy.stats import multivariate_normal as mvn\n",
        "\n",
        "class GaussNB():\n",
        "\n",
        "  def fit(self, X, y, epsilon = 1e-3):\n",
        "    self.likelihoods = dict()\n",
        "    self.priors = dict()\n",
        "    self.K = set(y.astype(int))\n",
        "\n",
        "    for k in self.K:\n",
        "      X_k = X[y==k]\n",
        "      # Naive Assumption: Observations are linearly independant of each other\n",
        "      self.likelihoods[k] = {\"mean\": X_k.mean(axis=0), \"cov\":X_k.var(axis=0)+epsilon}\n",
        "      self.priors[k] = len(X_k) / len(X)\n",
        "\n",
        "  def predict(self, X):\n",
        "\n",
        "    N, D = X.shape\n",
        "    P_hat = np.zeros((N, len(self.K)))\n",
        "\n",
        "    for k, l in self.likelihoods.items():\n",
        "      P_hat[:,k] = mvn.logpdf(X, l[\"mean\"], l[\"cov\"]) + np.log(self.priors[k])\n",
        "\n",
        "    return P_hat.argmax(axis=1)"
      ]
    },
    {
      "cell_type": "code",
      "execution_count": null,
      "metadata": {
        "id": "Ukru3nx4-G-j"
      },
      "outputs": [],
      "source": [
        "gnb = GaussNB()\n",
        "gnb.fit(X, y)"
      ]
    },
    {
      "cell_type": "code",
      "execution_count": null,
      "metadata": {},
      "outputs": [],
      "source": [
        "y_hat = gnb.predict(X)\n",
        "y_hat"
      ]
    },
    {
      "cell_type": "code",
      "execution_count": null,
      "metadata": {
        "id": "6A9bx-Hj-OhM"
      },
      "outputs": [],
      "source": [
        "def accuracy(y, y_hat):\n",
        "  return np.mean(y==y_hat)"
      ]
    },
    {
      "cell_type": "code",
      "execution_count": null,
      "metadata": {},
      "outputs": [],
      "source": [
        "accuracy(y, y_hat)"
      ]
    },
    {
      "cell_type": "code",
      "execution_count": null,
      "metadata": {
        "colab": {
          "base_uri": "https://localhost:8080/",
          "height": 447
        },
        "id": "BQBuQFUU-Q35",
        "outputId": "4e4e6248-4d50-4cc1-d3ae-09f49894e9cf"
      },
      "outputs": [],
      "source": [
        "plt.figure()\n",
        "plt.scatter(X[:,0], X[:, 1], c=y_hat, alpha=0.4, s=10)"
      ]
    },
    {
      "cell_type": "code",
      "execution_count": null,
      "metadata": {
        "colab": {
          "base_uri": "https://localhost:8080/"
        },
        "id": "eL8um3Z4-TYp",
        "outputId": "40356570-19f8-4937-f64a-dcd02eb1fb7c"
      },
      "outputs": [],
      "source": [
        "accuracy(y, y_hat)"
      ]
    },
    {
      "cell_type": "markdown",
      "metadata": {},
      "source": [
        "## Applying Non-Naive Gauss-Bayes Classifier"
      ]
    },
    {
      "cell_type": "code",
      "execution_count": null,
      "metadata": {},
      "outputs": [],
      "source": [
        "class GaussBayes():\n",
        "    def fit(self, X, y, epsilon=1e-3):\n",
        "        self.likelihoods = dict()\n",
        "        self.priors = dict()\n",
        "        self.K = set(y.astype(int))\n",
        "\n",
        "        for k in self.K:\n",
        "            X_k = X[y==k,:]\n",
        "            N_k, D = X_k.shape\n",
        "            mu_k = X_k.mean(axis=0)\\\n",
        "            \n",
        "            self.likelihoods[k] = {\"mean\": X_k.mean(axis=0), \"cov\":(1/(N_k-1))*np.matmul((X_k-mu_k).T, X_k-mu_k) + epsilon * np.identity(D)}\n",
        "\n",
        "            self.priors[k] = len(X_k) / len(X)\n",
        "        \n",
        "    def predict(self, X):\n",
        "        N, D = X.shape\n",
        "        P_hat = np.zeros((N, len(self.K)))\n",
        "\n",
        "        for k, l in self.likelihoods.items():\n",
        "            P_hat[:,k] = mvn.logpdf(X, l[\"mean\"], l[\"cov\"]) + np.log(self.priors[k])\n",
        "\n",
        "        return P_hat.argmax(axis=1)"
      ]
    },
    {
      "cell_type": "code",
      "execution_count": null,
      "metadata": {},
      "outputs": [],
      "source": [
        "gaussBayes = GaussBayes()"
      ]
    },
    {
      "cell_type": "code",
      "execution_count": null,
      "metadata": {},
      "outputs": [],
      "source": [
        "gaussBayes.fit(X, y, epsilon=1e-3)"
      ]
    },
    {
      "cell_type": "code",
      "execution_count": null,
      "metadata": {},
      "outputs": [],
      "source": [
        "y_hat_bayes = gaussBayes.predict(X)"
      ]
    },
    {
      "cell_type": "code",
      "execution_count": null,
      "metadata": {},
      "outputs": [],
      "source": [
        "plt.figure(figsize=(10,7))\n",
        "plt.scatter(X[:,0], X[:,1], c=y_hat_bayes, alpha=0.4, s=8)"
      ]
    },
    {
      "cell_type": "code",
      "execution_count": null,
      "metadata": {},
      "outputs": [],
      "source": [
        "accuracy(y, y_hat_bayes)"
      ]
    },
    {
      "cell_type": "markdown",
      "metadata": {},
      "source": [
        "## Applying K-Nearest Neighbours Classifier"
      ]
    },
    {
      "cell_type": "code",
      "execution_count": null,
      "metadata": {},
      "outputs": [],
      "source": [
        "class KNNClassifier():\n",
        "\n",
        "    def fit(self, X, y):\n",
        "        self.X = X\n",
        "        self.y = y\n",
        "\n",
        "    def predict(self, X, K, epsilon=1e-3):\n",
        "\n",
        "        N = len(X)\n",
        "        y_hat = np.zeros(N)\n",
        "\n",
        "        for i in range(N):\n",
        "            dist2 = np.sum((self.X - X[i]) ** 2, axis=1)\n",
        "            # list of sorted nearest indexes:\n",
        "            idxt = np.argsort(dist2)[:K]\n",
        "            gamma_k = 1 / (np.sqrt(dist2[idxt]+epsilon))\n",
        "\n",
        "            y_hat[i] = np.bincount(self.y[idxt], weights = gamma_k).argmax()\n",
        "\n",
        "        return y_hat"
      ]
    },
    {
      "cell_type": "code",
      "execution_count": null,
      "metadata": {},
      "outputs": [],
      "source": [
        "knn = KNNClassifier()\n",
        "knn.fit(X, y)"
      ]
    },
    {
      "cell_type": "code",
      "execution_count": null,
      "metadata": {},
      "outputs": [],
      "source": [
        "# if executed, it will run forever!!\n",
        "K = 2\n",
        "y_hat_knn = knn.predict(X, K)"
      ]
    },
    {
      "cell_type": "code",
      "execution_count": null,
      "metadata": {},
      "outputs": [],
      "source": [
        "plt.figure()\n",
        "plt.scatter(X[:,0], X[:, 1], c=y_hat_knn, s=10, alpha=0.4)"
      ]
    }
  ],
  "metadata": {
    "colab": {
      "provenance": []
    },
    "kernelspec": {
      "display_name": "Python 3",
      "name": "python3"
    },
    "language_info": {
      "codemirror_mode": {
        "name": "ipython",
        "version": 3
      },
      "file_extension": ".py",
      "mimetype": "text/x-python",
      "name": "python",
      "nbconvert_exporter": "python",
      "pygments_lexer": "ipython3",
      "version": "3.12.5"
    }
  },
  "nbformat": 4,
  "nbformat_minor": 0
}
