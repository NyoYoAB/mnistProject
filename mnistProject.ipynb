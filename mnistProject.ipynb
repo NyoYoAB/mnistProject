{
  "cells": [
    {
      "cell_type": "markdown",
      "metadata": {
        "id": "MEnD6s-Od2Yt"
      },
      "source": [
        "## Initial Process"
      ]
    },
    {
      "cell_type": "code",
      "execution_count": null,
      "metadata": {
        "id": "UPzJAy1wd_mQ"
      },
      "outputs": [],
      "source": [
        "import numpy as np\n",
        "import pandas as pd\n",
        "import matplotlib.pyplot as plt\n"
      ]
    },
    {
      "cell_type": "markdown",
      "metadata": {
        "id": "B1bXNQgpefO_"
      },
      "source": [
        "## Import CSV Data"
      ]
    },
    {
      "cell_type": "code",
      "execution_count": null,
      "metadata": {
        "id": "U2krC5g-eqen"
      },
      "outputs": [],
      "source": [
        "amnist_data = pd.read_csv(\"MNIST_train.csv\")\n"
      ]
    },
    {
      "cell_type": "code",
      "execution_count": null,
      "metadata": {
        "colab": {
          "base_uri": "https://localhost:8080/",
          "height": 424
        },
        "id": "8InTexmV4D_3",
        "outputId": "e4fb2687-5c9c-4ded-d68f-3a9848223631"
      },
      "outputs": [],
      "source": [
        "amnist_data"
      ]
    },
    {
      "cell_type": "code",
      "execution_count": null,
      "metadata": {
        "colab": {
          "base_uri": "https://localhost:8080/"
        },
        "id": "l7W5vify9GNM",
        "outputId": "06a36550-5ce6-436c-fada-43cd1742a374"
      },
      "outputs": [],
      "source": [
        "amnist_data.shape"
      ]
    },
    {
      "cell_type": "code",
      "execution_count": null,
      "metadata": {
        "id": "w4wVmkTz4JOv"
      },
      "outputs": [],
      "source": [
        "X = amnist_data.to_numpy()"
      ]
    },
    {
      "cell_type": "code",
      "execution_count": null,
      "metadata": {
        "colab": {
          "base_uri": "https://localhost:8080/"
        },
        "id": "oYM8WaHk4ryB",
        "outputId": "9ee018c3-fed0-4d9e-d39c-d1f8c829dd0e"
      },
      "outputs": [],
      "source": [
        "y = X[:,2]\n",
        "y"
      ]
    },
    {
      "cell_type": "code",
      "execution_count": null,
      "metadata": {
        "colab": {
          "base_uri": "https://localhost:8080/"
        },
        "id": "M7__vf_N4tlI",
        "outputId": "1d174b3d-d68a-47c5-b1ae-c6fc2464349a"
      },
      "outputs": [],
      "source": [
        "set(y)"
      ]
    },
    {
      "cell_type": "code",
      "execution_count": null,
      "metadata": {
        "colab": {
          "base_uri": "https://localhost:8080/"
        },
        "id": "DXnofux64vqH",
        "outputId": "45758797-dacd-4dd4-d49c-de7a39c111ae"
      },
      "outputs": [],
      "source": [
        "X = X[:, 3:]\n",
        "X.shape"
      ]
    },
    {
      "cell_type": "code",
      "execution_count": null,
      "metadata": {
        "colab": {
          "base_uri": "https://localhost:8080/"
        },
        "id": "TkxUBGy44yMX",
        "outputId": "78ff493f-aa3c-40b8-8b51-40602ff8dab1"
      },
      "outputs": [],
      "source": [
        "obs_1 = X[1, :]\n",
        "obs_1"
      ]
    },
    {
      "cell_type": "code",
      "execution_count": null,
      "metadata": {
        "colab": {
          "base_uri": "https://localhost:8080/"
        },
        "id": "z8aS10t05BmD",
        "outputId": "48c857f2-c03f-4d09-97af-2c2022893713"
      },
      "outputs": [],
      "source": [
        "X[1].max()"
      ]
    },
    {
      "cell_type": "code",
      "execution_count": null,
      "metadata": {
        "colab": {
          "base_uri": "https://localhost:8080/"
        },
        "id": "H4yENGim5iSZ",
        "outputId": "e1b028ff-2348-46f6-eba8-82029e596b5e"
      },
      "outputs": [],
      "source": [
        "obs_1 = obs_1.reshape(28, 28)\n",
        "obs_1"
      ]
    },
    {
      "cell_type": "code",
      "execution_count": null,
      "metadata": {
        "colab": {
          "base_uri": "https://localhost:8080/",
          "height": 447
        },
        "id": "MpDYYU0B6D8A",
        "outputId": "68801b40-9224-42ee-bffc-63b3c3b09165"
      },
      "outputs": [],
      "source": [
        "plt.imshow(obs_1)"
      ]
    },
    {
      "cell_type": "code",
      "execution_count": null,
      "metadata": {
        "id": "pIEDuMdV-B_4"
      },
      "outputs": [],
      "source": [
        "from scipy.stats import multivariate_normal as mvn"
      ]
    },
    {
      "cell_type": "code",
      "execution_count": null,
      "metadata": {
        "id": "XjboToG8-C8q"
      },
      "outputs": [],
      "source": [
        "class GaussNB():\n",
        "\n",
        "  def fit(self, X, y, epsilon = 1e-3):\n",
        "    self.likelihoods = dict()\n",
        "    self.priors = dict()\n",
        "    self.K = set(y.astype(int))\n",
        "\n",
        "    for k in self.K:\n",
        "      X_k = X[y==k]\n",
        "      # Naive Assumption: Observations are linearly independant of each other\n",
        "      self.likelihoods[k] = {\"mean\": X_k.mean(axis=0), \"cov\":X_k.var(axis=0)+epsilon}\n",
        "      self.priors[k] = len(X_k) / len(X)\n",
        "\n",
        "  def predict(self, X):\n",
        "\n",
        "    N, D = X.shape\n",
        "    P_hat = np.zeros((N, len(self.K)))\n",
        "\n",
        "    for k, l in self.likelihoods.items():\n",
        "      P_hat[:,k] = mvn.logpdf(X, l[\"mean\"], l[\"cov\"]) + np.log(self.priors[k])\n",
        "\n",
        "    return P_hat.argmax(axis=1)"
      ]
    },
    {
      "cell_type": "code",
      "execution_count": null,
      "metadata": {
        "id": "Ukru3nx4-G-j"
      },
      "outputs": [],
      "source": [
        "gnb = GaussNB()\n",
        "gnb.fit(X,y)\n",
        "y_hat = gnb.predict(X)"
      ]
    },
    {
      "cell_type": "code",
      "execution_count": null,
      "metadata": {
        "id": "6A9bx-Hj-OhM"
      },
      "outputs": [],
      "source": [
        "def accuracy(y, y_hat):\n",
        "  return np.mean(y==y_hat)"
      ]
    },
    {
      "cell_type": "code",
      "execution_count": null,
      "metadata": {
        "colab": {
          "base_uri": "https://localhost:8080/",
          "height": 447
        },
        "id": "BQBuQFUU-Q35",
        "outputId": "4e4e6248-4d50-4cc1-d3ae-09f49894e9cf"
      },
      "outputs": [],
      "source": [
        "plt.figure()\n",
        "plt.scatter(X[:,0], X[:, 1], c=y, alpha=0.4, s=10)"
      ]
    },
    {
      "cell_type": "code",
      "execution_count": null,
      "metadata": {
        "colab": {
          "base_uri": "https://localhost:8080/"
        },
        "id": "eL8um3Z4-TYp",
        "outputId": "40356570-19f8-4937-f64a-dcd02eb1fb7c"
      },
      "outputs": [],
      "source": [
        "accuracy(y, y_hat)"
      ]
    }
  ],
  "metadata": {
    "colab": {
      "provenance": []
    },
    "kernelspec": {
      "display_name": "Python 3",
      "name": "python3"
    },
    "language_info": {
      "codemirror_mode": {
        "name": "ipython",
        "version": 3
      },
      "file_extension": ".py",
      "mimetype": "text/x-python",
      "name": "python",
      "nbconvert_exporter": "python",
      "pygments_lexer": "ipython3",
      "version": "3.12.5"
    }
  },
  "nbformat": 4,
  "nbformat_minor": 0
}
